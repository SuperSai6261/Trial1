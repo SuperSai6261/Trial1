{
  "nbformat": 4,
  "nbformat_minor": 0,
  "metadata": {
    "colab": {
      "provenance": [],
      "authorship_tag": "ABX9TyMoYMgPQ+JXXbyUcwi7tTLe",
      "include_colab_link": true
    },
    "kernelspec": {
      "name": "python3",
      "display_name": "Python 3"
    },
    "language_info": {
      "name": "python"
    }
  },
  "cells": [
    {
      "cell_type": "markdown",
      "metadata": {
        "id": "view-in-github",
        "colab_type": "text"
      },
      "source": [
        "<a href=\"https://colab.research.google.com/github/SuperSai6261/Trial1/blob/main/Untitled0.ipynb\" target=\"_parent\"><img src=\"https://colab.research.google.com/assets/colab-badge.svg\" alt=\"Open In Colab\"/></a>"
      ]
    },
    {
      "cell_type": "markdown",
      "source": [
        "section 1: Import Libraries"
      ],
      "metadata": {
        "id": "1IVmPYfaYlR-"
      }
    },
    {
      "cell_type": "code",
      "execution_count": 86,
      "metadata": {
        "id": "lCXFkO_xTvRa"
      },
      "outputs": [],
      "source": [
        "import requests\n",
        "import pandas as pd\n",
        "import numpy as np\n",
        "from sklearn.model_selection import train_test_split\n",
        "from sklearn.preprocessing import LabelEncoder\n",
        "from sklearn.ensemble import RandomForestClassifier, RandomForestRegressor\n",
        "from sklearn.metrics import mean_squared_error\n",
        "from datetime import datetime, timedelta\n",
        "import pytz\n"
      ]
    },
    {
      "cell_type": "code",
      "source": [
        "API_KEY = '8f921521267dc7508f8e6ddc6e683bbc'\n",
        "BASE_URL = 'https://api.openweathermap.org/data/2.5/'"
      ],
      "metadata": {
        "id": "RH83-EIijL1o"
      },
      "execution_count": 87,
      "outputs": []
    },
    {
      "cell_type": "markdown",
      "source": [
        "\n",
        "1. Fetch Current Weather Data"
      ],
      "metadata": {
        "id": "6ERjGzJMj0eN"
      }
    },
    {
      "cell_type": "code",
      "source": [
        "def get_current_weather(city):\n",
        "    url = f\"{BASE_URL}weather?q={city}&appid={API_KEY}&units=metric\"\n",
        "    response = requests.get(url)\n",
        "    data = response.json()\n",
        "    return {\n",
        "        'city': data['name'],\n",
        "        'current_temp': round(data['main']['temp']),\n",
        "        'feels_like': round(data['main']['feels_like']),\n",
        "        'temp_min': round(data['main']['temp_min']),\n",
        "        'temp_max': round(data['main']['temp_max']),\n",
        "        'humidity': round(data['main']['humidity']),\n",
        "        'description': data['weather'][0]['description'],\n",
        "        'country': data['sys']['country'],\n",
        "        'wind_gust_dir': data['wind']['deg'],\n",
        "        'pressure': data['main']['pressure'],\n",
        "        'Wind_Gust_Speed': data['wind']['speed']\n",
        "    }"
      ],
      "metadata": {
        "id": "ogJSwzlrkMjX"
      },
      "execution_count": 88,
      "outputs": []
    },
    {
      "cell_type": "markdown",
      "source": [
        "2. Read Historical Data\n"
      ],
      "metadata": {
        "id": "O_Ppsqbqn9WT"
      }
    },
    {
      "cell_type": "code",
      "source": [
        "def read_historical_data(filename):\n",
        "    df = pd.read_csv(filename)\n",
        "    df = df.dropna().drop_duplicates()\n",
        "    return df"
      ],
      "metadata": {
        "id": "kiomD72YoEop"
      },
      "execution_count": 89,
      "outputs": []
    },
    {
      "cell_type": "markdown",
      "source": [
        "3. Prepare data for training"
      ],
      "metadata": {
        "id": "n9rw0ttfp5L9"
      }
    },
    {
      "cell_type": "code",
      "source": [
        "def prepare_data(data):\n",
        "    le = LabelEncoder()\n",
        "    data['WindGustDir'] = le.fit_transform(data['WindGustDir'])\n",
        "    data['RainTomorrow'] = le.fit_transform(data['RainTomorrow'])\n",
        "\n",
        "    X = data[['MinTemp', 'MaxTemp', 'WindGustDir', 'WindGustSpeed', 'Humidity', 'Pressure', 'Temp']]\n",
        "    y = data['RainTomorrow']\n",
        "    return X, y, le\n"
      ],
      "metadata": {
        "id": "57UgI-ump-lW"
      },
      "execution_count": 90,
      "outputs": []
    },
    {
      "cell_type": "markdown",
      "source": [
        "4. Train Rain Prediction"
      ],
      "metadata": {
        "id": "ORBMIr5CsFOo"
      }
    },
    {
      "cell_type": "code",
      "source": [
        "def train_rain_model(X, y):\n",
        "    X_train, X_test, y_train, y_test = train_test_split(X, y, test_size=0.2, random_state=42)\n",
        "    model = RandomForestClassifier(n_estimators=100, random_state=42)\n",
        "    model.fit(X_train, y_train)\n",
        "    y_pred = model.predict(X_test)\n",
        "    print(\"Mean Squared Error for Rain Model:\", mean_squared_error(y_test, y_pred))\n",
        "    return model"
      ],
      "metadata": {
        "id": "ojwpgQcFsXnM"
      },
      "execution_count": 91,
      "outputs": []
    },
    {
      "cell_type": "markdown",
      "source": [
        "5. Prepare regression data"
      ],
      "metadata": {
        "id": "EtuRAb-tt-Ol"
      }
    },
    {
      "cell_type": "code",
      "source": [
        "def prepare_regression_data(data, feature):\n",
        "    X, y = [], []\n",
        "    for i in range(len(data) - 1):\n",
        "        X.append(data[feature].iloc[i])\n",
        "        y.append(data[feature].iloc[i + 1])\n",
        "    X = np.array(X).reshape(-1, 1)\n",
        "    y = np.array(y)\n",
        "    return X, y"
      ],
      "metadata": {
        "id": "rYZoBorhuCUJ"
      },
      "execution_count": 92,
      "outputs": []
    },
    {
      "cell_type": "markdown",
      "source": [
        "Train Regression Model\n"
      ],
      "metadata": {
        "id": "wkXQExycu-0R"
      }
    },
    {
      "cell_type": "code",
      "source": [
        "def train_regression_model(X, y):\n",
        "    model = RandomForestRegressor(n_estimators=100, random_state=42)\n",
        "    model.fit(X, y)\n",
        "    return model"
      ],
      "metadata": {
        "id": "jTuHK2TBvDYY"
      },
      "execution_count": 93,
      "outputs": []
    },
    {
      "cell_type": "markdown",
      "source": [
        "Predict Future"
      ],
      "metadata": {
        "id": "xxrdGn0Ivarg"
      }
    },
    {
      "cell_type": "code",
      "source": [
        "def predict_future(model, current_value):\n",
        "    predictions = [current_value]\n",
        "    for _ in range(5):\n",
        "        next_value = model.predict(np.array([[predictions[-1]]]))\n",
        "        predictions.append(next_value[0])\n",
        "    return predictions[1:]"
      ],
      "metadata": {
        "id": "_8ms4Ly6veAp"
      },
      "execution_count": 94,
      "outputs": []
    },
    {
      "cell_type": "markdown",
      "source": [
        "Weather Analysis Function"
      ],
      "metadata": {
        "id": "HhpaV_0kwa_e"
      }
    },
    {
      "cell_type": "code",
      "source": [
        "def weather_view():\n",
        "    city = input('Enter any city name: ')\n",
        "    current_weather = get_current_weather(city)\n",
        "    historical_data = read_historical_data('weather.csv')\n",
        "\n",
        "    X, y, le = prepare_data(historical_data)\n",
        "    rain_model = train_rain_model(X, y)\n",
        "\n",
        "    # Encode wind direction\n",
        "    wind_deg = current_weather['wind_gust_dir'] % 360\n",
        "    compass_points = [\n",
        "        (\"N\", 0, 11.25), (\"NNE\", 11.25, 33.75), (\"NE\", 33.75, 56.25),\n",
        "        (\"ENE\", 56.25, 78.75), (\"E\", 78.75, 101.25), (\"ESE\", 101.25, 123.75),\n",
        "        (\"SE\", 123.75, 146.25), (\"SSE\", 146.25, 168.75), (\"S\", 168.75, 191.25),\n",
        "        (\"SSW\", 191.25, 213.75), (\"SW\", 213.75, 236.25), (\"WSW\", 236.25, 258.75),\n",
        "        (\"W\", 258.75, 281.25), (\"WNW\", 281.25, 303.75), (\"NW\", 303.75, 326.25),\n",
        "        (\"NNW\", 326.25, 348.75)\n",
        "    ]\n",
        "    compass_direction = next(\n",
        "        point for point, start, end in compass_points if start <= wind_deg < end\n",
        "    )\n",
        "    compass_direction_encoded = le.transform([compass_direction])[0] if compass_direction in le.classes_ else -1\n",
        "\n",
        "    current_data = {\n",
        "        'MinTemp': current_weather['temp_min'],\n",
        "        'MaxTemp': current_weather['temp_max'],\n",
        "        'WindGustDir': compass_direction_encoded,\n",
        "        'WindGustSpeed': current_weather['Wind_Gust_Speed'],\n",
        "        'Humidity': current_weather['humidity'],\n",
        "        'Pressure': current_weather['pressure'],\n",
        "        'Temp': current_weather['current_temp'],\n",
        "    }\n",
        "    current_df = pd.DataFrame([current_data])\n",
        "    rain_prediction = rain_model.predict(current_df)[0]\n",
        "\n",
        "    X_temp, y_temp = prepare_regression_data(historical_data, 'Temp')\n",
        "    X_hum, y_hum = prepare_regression_data(historical_data, 'Humidity')\n",
        "    temp_model = train_regression_model(X_temp, y_temp)\n",
        "    hum_model = train_regression_model(X_hum, y_hum)\n",
        "\n",
        "    future_temp = predict_future(temp_model, current_weather['temp_min'])\n",
        "    future_humidity = predict_future(hum_model, current_weather['humidity'])\n",
        "\n",
        "    timezone = pytz.timezone('Asia/Kolkata')\n",
        "    now = datetime.now(timezone)\n",
        "    next_hour = now + timedelta(hours=1)\n",
        "    next_hour = next_hour.replace(minute=0, second=0, microsecond=0)\n",
        "    future_times = [(next_hour + timedelta(hours=i)).strftime(\"%H:00\") for i in range(5)]\n",
        "\n",
        "    print(f\"\\nCity: {city}, {current_weather['country']}\")\n",
        "    print(f\"Current Temperature: {current_weather['current_temp']}°C\")\n",
        "    print(f\"Feels Like: {current_weather['feels_like']}°C\")\n",
        "    print(f\"Min Temp: {current_weather['temp_min']}°C | Max Temp: {current_weather['temp_max']}°C\")\n",
        "    print(f\"Humidity: {current_weather['humidity']}%\")\n",
        "    print(f\"Weather: {current_weather['description']}\")\n",
        "    print(f\"Rain Prediction: {'Yes' if rain_prediction else 'No'}\")\n",
        "\n",
        "    print(\"\\nFuture Temperature Predictions:\")\n",
        "    for time, temp in zip(future_times, future_temp):\n",
        "        print(f\"{time}: {round(temp, 1)}°C\")\n",
        "\n",
        "    print(\"\\nFuture Humidity Predictions:\")\n",
        "    for time, humidity in zip(future_times, future_humidity):\n",
        "        print(f\"{time}: {round(humidity, 1)}%\")\n",
        "\n",
        "# ✅ Run\n",
        "weather_view()"
      ],
      "metadata": {
        "colab": {
          "base_uri": "https://localhost:8080/"
        },
        "collapsed": true,
        "id": "CK5FkU8AwglM",
        "outputId": "f67cee2a-679e-472c-c717-2b04f47b973c"
      },
      "execution_count": 95,
      "outputs": [
        {
          "output_type": "stream",
          "name": "stdout",
          "text": [
            "Enter any city name: England\n",
            "Mean Squared Error for Rain Model: 0.1506849315068493\n",
            "\n",
            "City: England, US\n",
            "Current Temperature: 13°C\n",
            "Feels Like: 13°C\n",
            "Min Temp: 13°C | Max Temp: 13°C\n",
            "Humidity: 92%\n",
            "Weather: broken clouds\n",
            "Rain Prediction: Yes\n",
            "\n",
            "Future Temperature Predictions:\n",
            "16:00: 13.5°C\n",
            "17:00: 11.7°C\n",
            "18:00: 11.6°C\n",
            "19:00: 11.7°C\n",
            "20:00: 11.6°C\n",
            "\n",
            "Future Humidity Predictions:\n",
            "16:00: 53.1%\n",
            "17:00: 51.0%\n",
            "18:00: 46.6%\n",
            "19:00: 47.2%\n",
            "20:00: 47.2%\n"
          ]
        }
      ]
    }
  ]
}